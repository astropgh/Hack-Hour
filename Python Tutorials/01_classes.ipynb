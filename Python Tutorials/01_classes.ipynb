{
 "cells": [
  {
   "cell_type": "markdown",
   "metadata": {},
   "source": [
    "# Intermediate Python (1): Classes\n",
    "\n",
    "by [Yao-Yuan Mao](https://yymao.github.io)"
   ]
  },
  {
   "cell_type": "markdown",
   "metadata": {},
   "source": [
    "Write 2-3 compatible code: http://python-future.org/compatible_idioms.html"
   ]
  },
  {
   "cell_type": "code",
   "execution_count": 1,
   "metadata": {
    "collapsed": false
   },
   "outputs": [],
   "source": [
    "from __future__ import division, print_function\n",
    "\n",
    "# `conda install future` OR `pip install future` \n",
    "from builtins import *"
   ]
  },
  {
   "cell_type": "markdown",
   "metadata": {},
   "source": [
    "## Nomenclature: object, class, instance, attribute, method\n",
    "\n",
    "https://docs.python.org/2.7/tutorial/classes.html OR https://docs.python.org/3.6/tutorial/classes.html"
   ]
  },
  {
   "cell_type": "code",
   "execution_count": 2,
   "metadata": {
    "collapsed": true
   },
   "outputs": [],
   "source": [
    "class Human(object):\n",
    "    def eat(self, food):\n",
    "        print('I am eating {}'.format(food))"
   ]
  },
  {
   "cell_type": "code",
   "execution_count": 3,
   "metadata": {
    "collapsed": false
   },
   "outputs": [
    {
     "name": "stdout",
     "output_type": "stream",
     "text": [
      "I am eating an apple\n",
      "Yao\n"
     ]
    }
   ],
   "source": [
    "# create an instance `Yao` from the class `Human`\n",
    "Yao = Human() \n",
    "\n",
    "# access method `eat`\n",
    "Yao.eat('an apple')\n",
    "\n",
    "# set and get attribute `name`\n",
    "Yao.name = \"Yao\"\n",
    "print(Yao.name)"
   ]
  },
  {
   "cell_type": "markdown",
   "metadata": {},
   "source": [
    "## How and when to use a class in Python\n",
    "- Maintain persistent states\n",
    "- Enhance readability (abstraction, encapsulation)\n",
    "- Enhance extensibility (polymorphism, inheritance)"
   ]
  },
  {
   "cell_type": "markdown",
   "metadata": {},
   "source": [
    "Take a look at an example"
   ]
  },
  {
   "cell_type": "code",
   "execution_count": 4,
   "metadata": {
    "collapsed": false
   },
   "outputs": [],
   "source": [
    "# what we usually do \n",
    "\n",
    "def load(fn):\n",
    "    pass\n",
    "\n",
    "def process(im):\n",
    "    return True\n",
    "\n",
    "def plot(im):\n",
    "    pass\n",
    "\n",
    "for fn in ['a', 'b','c']:\n",
    "    im = load(fn)\n",
    "    im_processed = process(im)\n",
    "    plot(im_processed)"
   ]
  },
  {
   "cell_type": "code",
   "execution_count": 5,
   "metadata": {
    "collapsed": false
   },
   "outputs": [
    {
     "name": "stdout",
     "output_type": "stream",
     "text": [
      "a\n",
      "b\n",
      "c\n"
     ]
    }
   ],
   "source": [
    "# what we can do:\n",
    "\n",
    "class Image(object):\n",
    "    def __init__(self, fname):\n",
    "        self.fname = fname\n",
    "        self.im = load(fname)\n",
    "        self.im_processed = None\n",
    "        \n",
    "    def process(self):\n",
    "        self.im_processed = process(self.im)\n",
    "        \n",
    "    def plot(self):\n",
    "        # to prevent plotting if the image has not been processed\n",
    "        if self.im_processed is None:\n",
    "            raise ValueError\n",
    "        plot(im_processed)\n",
    "        \n",
    "for fn in ['a', 'b','c']:\n",
    "    im = Image(fn)\n",
    "    im.process()\n",
    "    im.plot()\n",
    "    print(im.fname)"
   ]
  },
  {
   "cell_type": "markdown",
   "metadata": {},
   "source": [
    "Another example"
   ]
  },
  {
   "cell_type": "code",
   "execution_count": 6,
   "metadata": {
    "collapsed": false
   },
   "outputs": [
    {
     "name": "stdout",
     "output_type": "stream",
     "text": [
      "1.02040816327\n",
      "0.771604938272\n"
     ]
    }
   ],
   "source": [
    "import math\n",
    "\n",
    "def NFWProfile(r, rs, rhos):\n",
    "    x = r/rs\n",
    "    return rhos/(x*(1.0+x)**2.0)\n",
    "\n",
    "print(NFWProfile(8.0, 20.0, 0.8))\n",
    "print(NFWProfile(8.0, 10.0, 2.0))"
   ]
  },
  {
   "cell_type": "code",
   "execution_count": 7,
   "metadata": {
    "collapsed": false
   },
   "outputs": [
    {
     "data": {
      "text/plain": [
       "1.0204081632653064"
      ]
     },
     "execution_count": 7,
     "metadata": {},
     "output_type": "execute_result"
    }
   ],
   "source": [
    "params1 = {'rs':20.0, 'rhos':0.8}\n",
    "NFWProfile(8.0, **params1)"
   ]
  },
  {
   "cell_type": "code",
   "execution_count": 8,
   "metadata": {
    "collapsed": true
   },
   "outputs": [],
   "source": [
    "def GeneralizedNFWProfile(r, rs, rhos, gamma):\n",
    "    x = r/rs\n",
    "    return rhos/(x*(1.0+x)**gamma)"
   ]
  },
  {
   "cell_type": "code",
   "execution_count": 9,
   "metadata": {
    "collapsed": false
   },
   "outputs": [
    {
     "ename": "TypeError",
     "evalue": "GeneralizedNFWProfile() takes exactly 4 arguments (3 given)",
     "output_type": "error",
     "traceback": [
      "\u001b[0;31m---------------------------------------------------------------------------\u001b[0m",
      "\u001b[0;31mTypeError\u001b[0m                                 Traceback (most recent call last)",
      "\u001b[0;32m<ipython-input-9-912444bb88a8>\u001b[0m in \u001b[0;36m<module>\u001b[0;34m()\u001b[0m\n\u001b[1;32m      1\u001b[0m \u001b[0;31m# does not work\u001b[0m\u001b[0;34m\u001b[0m\u001b[0;34m\u001b[0m\u001b[0m\n\u001b[0;32m----> 2\u001b[0;31m \u001b[0mGeneralizedNFWProfile\u001b[0m\u001b[0;34m(\u001b[0m\u001b[0;36m8.0\u001b[0m\u001b[0;34m,\u001b[0m \u001b[0;34m**\u001b[0m\u001b[0mparams1\u001b[0m\u001b[0;34m)\u001b[0m\u001b[0;34m\u001b[0m\u001b[0m\n\u001b[0m",
      "\u001b[0;31mTypeError\u001b[0m: GeneralizedNFWProfile() takes exactly 4 arguments (3 given)"
     ]
    }
   ],
   "source": [
    "# does not work\n",
    "GeneralizedNFWProfile(8.0, **params1)"
   ]
  },
  {
   "cell_type": "code",
   "execution_count": 10,
   "metadata": {
    "collapsed": false
   },
   "outputs": [
    {
     "data": {
      "text/plain": [
       "1.0204081632653064"
      ]
     },
     "execution_count": 10,
     "metadata": {},
     "output_type": "execute_result"
    }
   ],
   "source": [
    "# now this work\n",
    "params1 = {'rs':20.0, 'rhos':0.8, 'gamma':2.0}\n",
    "GeneralizedNFWProfile(8.0, **params1)"
   ]
  },
  {
   "cell_type": "code",
   "execution_count": 11,
   "metadata": {
    "collapsed": false
   },
   "outputs": [
    {
     "ename": "TypeError",
     "evalue": "NFWProfile() got an unexpected keyword argument 'gamma'",
     "output_type": "error",
     "traceback": [
      "\u001b[0;31m---------------------------------------------------------------------------\u001b[0m",
      "\u001b[0;31mTypeError\u001b[0m                                 Traceback (most recent call last)",
      "\u001b[0;32m<ipython-input-11-7ffb68488606>\u001b[0m in \u001b[0;36m<module>\u001b[0;34m()\u001b[0m\n\u001b[1;32m      1\u001b[0m \u001b[0;31m# but this does not:\u001b[0m\u001b[0;34m\u001b[0m\u001b[0;34m\u001b[0m\u001b[0m\n\u001b[0;32m----> 2\u001b[0;31m \u001b[0mNFWProfile\u001b[0m\u001b[0;34m(\u001b[0m\u001b[0;36m8.0\u001b[0m\u001b[0;34m,\u001b[0m \u001b[0;34m**\u001b[0m\u001b[0mparams1\u001b[0m\u001b[0;34m)\u001b[0m\u001b[0;34m\u001b[0m\u001b[0m\n\u001b[0m",
      "\u001b[0;31mTypeError\u001b[0m: NFWProfile() got an unexpected keyword argument 'gamma'"
     ]
    }
   ],
   "source": [
    "# but this does not:\n",
    "NFWProfile(8.0, **params1)"
   ]
  },
  {
   "cell_type": "code",
   "execution_count": 12,
   "metadata": {
    "collapsed": false
   },
   "outputs": [
    {
     "data": {
      "text/plain": [
       "1.0204081632653064"
      ]
     },
     "execution_count": 12,
     "metadata": {},
     "output_type": "execute_result"
    }
   ],
   "source": [
    "# what you can do\n",
    "\n",
    "class Profile(object):\n",
    "    def __init__(self, func, **kwargs):\n",
    "        self.func = func\n",
    "        self.kwargs = kwargs\n",
    "        \n",
    "    def call(self, r):\n",
    "        return self.func(r, **self.kwargs)\n",
    "        \n",
    "p1 = Profile(NFWProfile, rs=20.0, rhos=0.8)\n",
    "p1.call(8.0)"
   ]
  },
  {
   "cell_type": "markdown",
   "metadata": {},
   "source": [
    "## Things that start with underscore(s), like \"\\__init\\__\", are"
   ]
  },
  {
   "cell_type": "code",
   "execution_count": 13,
   "metadata": {
    "collapsed": false
   },
   "outputs": [],
   "source": [
    "class Human(object):\n",
    "    def __init__(self, name):\n",
    "        # call when the instance is initialized (but not when it was created!)\n",
    "        print('haha')\n",
    "        self.name = name\n",
    "        \n",
    "    def eat(self, food):\n",
    "        print('I am eating {}'.format(food))\n",
    "        \n",
    "    def __add__(self, other):\n",
    "        # tell \"+\" what to do\n",
    "        print(self.name, other.name)\n",
    "        \n",
    "    def __iter__(self):\n",
    "        # tell \"for ... in\" what to do\n",
    "        print('this is __iter__')\n",
    "        return iter([])\n",
    "    \n",
    "    def __call__(self, x):\n",
    "        # tell \"()\" what to do\n",
    "        return x+1\n",
    "    \n",
    "    def __getitem__(self, x):\n",
    "        return self.name[x]\n",
    "    \n",
    "    def __len__(self):\n",
    "        # tell \"len()\" what to do\n",
    "        return len(self.name)"
   ]
  },
  {
   "cell_type": "code",
   "execution_count": 14,
   "metadata": {
    "collapsed": false
   },
   "outputs": [
    {
     "name": "stdout",
     "output_type": "stream",
     "text": [
      "haha\n",
      "haha\n"
     ]
    }
   ],
   "source": [
    "Yao = Human('Yao')\n",
    "Andrew = Human('Andrew')"
   ]
  },
  {
   "cell_type": "code",
   "execution_count": 15,
   "metadata": {
    "collapsed": false
   },
   "outputs": [
    {
     "name": "stdout",
     "output_type": "stream",
     "text": [
      "Yao Andrew\n"
     ]
    }
   ],
   "source": [
    "Yao + Andrew"
   ]
  },
  {
   "cell_type": "code",
   "execution_count": 16,
   "metadata": {
    "collapsed": false
   },
   "outputs": [
    {
     "data": {
      "text/plain": [
       "3"
      ]
     },
     "execution_count": 16,
     "metadata": {},
     "output_type": "execute_result"
    }
   ],
   "source": [
    "Yao(2)"
   ]
  },
  {
   "cell_type": "code",
   "execution_count": 17,
   "metadata": {
    "collapsed": false
   },
   "outputs": [
    {
     "data": {
      "text/plain": [
       "'a'"
      ]
     },
     "execution_count": 17,
     "metadata": {},
     "output_type": "execute_result"
    }
   ],
   "source": [
    "Yao[1]"
   ]
  },
  {
   "cell_type": "code",
   "execution_count": 18,
   "metadata": {
    "collapsed": false
   },
   "outputs": [
    {
     "data": {
      "text/plain": [
       "3"
      ]
     },
     "execution_count": 18,
     "metadata": {},
     "output_type": "execute_result"
    }
   ],
   "source": [
    "len(Yao)"
   ]
  },
  {
   "cell_type": "markdown",
   "metadata": {},
   "source": [
    "See a full list at:\n",
    "https://docs.python.org/2/reference/datamodel.html#special-method-names"
   ]
  },
  {
   "cell_type": "markdown",
   "metadata": {},
   "source": [
    "## hasattr(), setattr(), and getattr()"
   ]
  },
  {
   "cell_type": "code",
   "execution_count": 19,
   "metadata": {
    "collapsed": false
   },
   "outputs": [
    {
     "name": "stdout",
     "output_type": "stream",
     "text": [
      "False\n",
      "False\n",
      "True\n",
      "True\n",
      "False\n"
     ]
    }
   ],
   "source": [
    "def addone(x):\n",
    "    return x+1\n",
    "\n",
    "y = 1\n",
    "\n",
    "print(hasattr(addone, '_call__'))\n",
    "print(hasattr(y, '_call__'))\n",
    "print(callable(addone))\n",
    "print(hasattr([1,2,3], '__iter__'))\n",
    "print(hasattr('abc', '__iter__'))"
   ]
  },
  {
   "cell_type": "code",
   "execution_count": 20,
   "metadata": {
    "collapsed": false
   },
   "outputs": [
    {
     "name": "stdout",
     "output_type": "stream",
     "text": [
      "Pitt\n"
     ]
    }
   ],
   "source": [
    "# this is identical to Yao.school = 'Pitt'\n",
    "setattr(Yao, 'school', 'Pitt')\n",
    "print(Yao.school)"
   ]
  },
  {
   "cell_type": "code",
   "execution_count": 21,
   "metadata": {
    "collapsed": false
   },
   "outputs": [
    {
     "name": "stdout",
     "output_type": "stream",
     "text": [
      "Postdoc\n",
      "Pitt\n",
      "Andrew\n"
     ]
    }
   ],
   "source": [
    "# set and get attributes with variables\n",
    "\n",
    "d = dict(school='Pitt', position='Postdoc', advisor='Andrew')\n",
    "\n",
    "for k, v in d.iteritems():\n",
    "    setattr(Yao, k, v)\n",
    "    \n",
    "for k in d:\n",
    "    print(getattr(Yao, k))"
   ]
  },
  {
   "cell_type": "markdown",
   "metadata": {},
   "source": [
    "## @staticmethod and @classmethod"
   ]
  },
  {
   "cell_type": "code",
   "execution_count": 22,
   "metadata": {
    "collapsed": false
   },
   "outputs": [
    {
     "name": "stdout",
     "output_type": "stream",
     "text": [
      "Yao Homo posterus\n",
      "Andrew Homo sapiens\n",
      "Yao Homo sapiens\n"
     ]
    }
   ],
   "source": [
    "class Human(object):\n",
    "    \n",
    "    # this is a class attribute, not an instance attribute\n",
    "    species = 'Homo sapiens'\n",
    "    \n",
    "    def __init__(self, name):\n",
    "        self.name = name\n",
    "        \n",
    "    def evolve(self):\n",
    "        self.species = 'Homo posterus'\n",
    "\n",
    "\n",
    "Yao = Human('Yao')\n",
    "Andrew = Human('Andrew')\n",
    "\n",
    "# Yao (as an instance) has evolved, but not the Human class!\n",
    "Yao.evolve()\n",
    "\n",
    "print(Yao.name, Yao.species)\n",
    "print(Andrew.name, Andrew.species)\n",
    "print(Yao.name, Yao.__class__.species)"
   ]
  },
  {
   "cell_type": "code",
   "execution_count": 23,
   "metadata": {
    "collapsed": false
   },
   "outputs": [
    {
     "name": "stdout",
     "output_type": "stream",
     "text": [
      "Yao Homo posterus\n",
      "Andrew Homo posterus\n",
      "Yao Homo posterus\n"
     ]
    }
   ],
   "source": [
    "class Human(object):\n",
    "    species = 'Homo sapiens'\n",
    "    \n",
    "    def __init__(self, name):\n",
    "        self.name = name\n",
    "    \n",
    "    # with @classmethod, the first argument that will be passed to `evolve` will be the `Human` class, \n",
    "    # NOT the instance!\n",
    "    @classmethod\n",
    "    def evolve(cls):\n",
    "        cls.species = 'Homo posterus'\n",
    "\n",
    "\n",
    "Yao = Human('Yao')\n",
    "Andrew = Human('Andrew')\n",
    "\n",
    "Yao.evolve()\n",
    "\n",
    "print(Yao.name, Yao.species)\n",
    "print(Andrew.name, Andrew.species)\n",
    "print(Yao.name, Yao.__class__.species)"
   ]
  },
  {
   "cell_type": "code",
   "execution_count": 24,
   "metadata": {
    "collapsed": true
   },
   "outputs": [],
   "source": [
    "class Cosmology(object):\n",
    "    def __init__(self, Omega_M):\n",
    "        self.Omega_M = Omega_M\n",
    "        \n",
    "    @staticmethod\n",
    "    def a2z(a):\n",
    "        return 1.0/a - 1.0    "
   ]
  },
  {
   "cell_type": "code",
   "execution_count": 25,
   "metadata": {
    "collapsed": false
   },
   "outputs": [
    {
     "name": "stdout",
     "output_type": "stream",
     "text": [
      "0.0\n",
      "0.0\n"
     ]
    }
   ],
   "source": [
    "cosmo = Cosmology(1.0)\n",
    "print(Cosmology.a2z(1.0))\n",
    "print(cosmo.a2z(1.0))"
   ]
  },
  {
   "cell_type": "markdown",
   "metadata": {},
   "source": [
    "While `@classmethod` and `@staticmethod` are not commonly used. This part is to help you distinquish the difference between a class and its instances.\n",
    "\n",
    "To summarize: \n",
    "\n",
    "- a method by default, when called, uses the calling instance as the first argument\n",
    "  (hence you cannot do `Human.eat()` in our above example, since `Human` is not an instance)\n",
    "  \n",
    "- if a method is decorated by `@classmethod`, it will use the calling **class** as the first argument\n",
    "\n",
    "- if a method is decorated by `@staticmethod`, it will not use the calling instance nor class as the first argument"
   ]
  },
  {
   "cell_type": "markdown",
   "metadata": {},
   "source": [
    "## Class inheritance"
   ]
  },
  {
   "cell_type": "code",
   "execution_count": 26,
   "metadata": {
    "collapsed": true
   },
   "outputs": [],
   "source": [
    "class Human(object):\n",
    "    def __init__(self, name):\n",
    "        self.name = name\n",
    "        \n",
    "    def eat(self, food):\n",
    "        print('{} is eating {}'.format(self.name, food))\n",
    "        \n",
    "    def drink(self, liquid):\n",
    "        print('{} is drinking {}'.format(self.name, liquid))\n",
    "\n",
    "        \n",
    "class Astrophysicist(Human):\n",
    "    # add new methods\n",
    "    def write_paper(self):\n",
    "        print('I am writing papers')\n",
    "        \n",
    "    # overwrite methods\n",
    "    def drink(self, liquid):\n",
    "        if liquid != 'coffee':\n",
    "            print('I only drink coffee')\n",
    "        else:\n",
    "            # use super to call the original function in the parent class\n",
    "            super(Astrophysicist, self).drink(liquid)"
   ]
  },
  {
   "cell_type": "code",
   "execution_count": 27,
   "metadata": {
    "collapsed": false
   },
   "outputs": [
    {
     "name": "stdout",
     "output_type": "stream",
     "text": [
      "Yao is eating an apple\n",
      "I am writing papers\n",
      "I only drink coffee\n",
      "Yao is drinking coffee\n"
     ]
    }
   ],
   "source": [
    "Yao = Astrophysicist('Yao')\n",
    "\n",
    "# parent methods still work\n",
    "Yao.eat('an apple')\n",
    "\n",
    "Yao.write_paper()\n",
    "\n",
    "Yao.drink('juice')\n",
    "Yao.drink('coffee')"
   ]
  },
  {
   "cell_type": "markdown",
   "metadata": {},
   "source": [
    "## type(), isinstance(), issubclass()"
   ]
  },
  {
   "cell_type": "code",
   "execution_count": 28,
   "metadata": {
    "collapsed": false
   },
   "outputs": [
    {
     "name": "stdout",
     "output_type": "stream",
     "text": [
      "<class '__main__.Astrophysicist'>\n",
      "<type 'int'>\n",
      "<type 'str'>\n",
      "<class 'future.types.newstr.BaseNewStr'>\n",
      "<type 'type'>\n"
     ]
    }
   ],
   "source": [
    "# everything in python is an object (and hence has a type!)\n",
    "\n",
    "print(type(Yao))\n",
    "print(type(123))\n",
    "print(type('abc'))\n",
    "print(type(str))\n",
    "print(type(type))"
   ]
  },
  {
   "cell_type": "code",
   "execution_count": 29,
   "metadata": {
    "collapsed": false
   },
   "outputs": [
    {
     "name": "stdout",
     "output_type": "stream",
     "text": [
      "True\n"
     ]
    }
   ],
   "source": [
    "print(issubclass(type(Yao), Human))"
   ]
  },
  {
   "cell_type": "code",
   "execution_count": 30,
   "metadata": {
    "collapsed": false
   },
   "outputs": [
    {
     "name": "stdout",
     "output_type": "stream",
     "text": [
      "False\n",
      "False\n",
      "True\n"
     ]
    }
   ],
   "source": [
    "print(issubclass(type('abc'), str))\n",
    "print(issubclass(type(u'abc'), str))\n",
    "print(issubclass(type(u'abc'), basestring))"
   ]
  },
  {
   "cell_type": "code",
   "execution_count": 31,
   "metadata": {
    "collapsed": false
   },
   "outputs": [
    {
     "name": "stdout",
     "output_type": "stream",
     "text": [
      "True\n",
      "False\n",
      "True\n"
     ]
    }
   ],
   "source": [
    "print(isinstance([1,2,3], list))\n",
    "print(isinstance((1,2,3), list)) # (1,2,3) is a tuple\n",
    "\n",
    "# better way to check if iterable is\n",
    "print(hasattr((1,2,3), '__iter__'))"
   ]
  },
  {
   "cell_type": "code",
   "execution_count": null,
   "metadata": {
    "collapsed": true
   },
   "outputs": [],
   "source": []
  }
 ],
 "metadata": {
  "kernelspec": {
   "display_name": "Python [default]",
   "language": "python",
   "name": "python2"
  },
  "language_info": {
   "codemirror_mode": {
    "name": "ipython",
    "version": 2
   },
   "file_extension": ".py",
   "mimetype": "text/x-python",
   "name": "python",
   "nbconvert_exporter": "python",
   "pygments_lexer": "ipython2",
   "version": "2.7.13"
  }
 },
 "nbformat": 4,
 "nbformat_minor": 2
}
